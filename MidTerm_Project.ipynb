{
  "nbformat": 4,
  "nbformat_minor": 0,
  "metadata": {
    "colab": {
      "provenance": []
    },
    "kernelspec": {
      "name": "python3",
      "display_name": "Python 3"
    },
    "language_info": {
      "name": "python"
    }
  },
  "cells": [
    {
      "cell_type": "code",
      "execution_count": 19,
      "metadata": {
        "colab": {
          "base_uri": "https://localhost:8080/"
        },
        "collapsed": true,
        "id": "7ZCTwzUXIjpY",
        "outputId": "4db0fd1e-aee0-42ca-da83-9bc3ad116f78"
      },
      "outputs": [
        {
          "output_type": "stream",
          "name": "stderr",
          "text": [
            "<ipython-input-19-c3e53ee0a2ad>:39: RuntimeWarning: invalid value encountered in divide\n",
            "  specificity_random_forest = numpy.append(specificity_random_forest, numpy.array([true_negative / (true_negative + false_positive)]))\n"
          ]
        },
        {
          "output_type": "stream",
          "name": "stdout",
          "text": [
            "Training Features Shape: (266, 1836)\n",
            "Training Labels Shape: (266,)\n",
            "Testing Features Shape: (89, 1836)\n",
            "Testing Labels Shape: (89,)\n",
            "RANDOM FOREST ALGORITHM SENSITIVITY IS: [1. 1. 0. 1.]\n",
            "RANDOM FOREST ALGORITHM SPECIFICITY IS: [       nan 0.         1.         0.96666667]\n",
            "RANDOM FOREST ALGORITHM ACCURACY SCORE\n",
            "93.61 %\n",
            "GRADIENT BOOSTED TREE ALGORITHM SENSITIVITY IS: [ 1. nan  0.  1.]\n",
            "GRADIENT BOOSTED TREE ALGORITHM SPECIFICITY IS: [ 1.  0. nan nan]\n",
            "GRADIENT BOOSTED TREES ALGORITHM ACCURACY SCORE\n",
            "100.0 %\n"
          ]
        },
        {
          "output_type": "stream",
          "name": "stderr",
          "text": [
            "<ipython-input-19-c3e53ee0a2ad>:65: RuntimeWarning: invalid value encountered in divide\n",
            "  sensitivity_gradient_boost = numpy.append(sensitivity_gradient_boost, numpy.array([true_positive / (true_positive + false_negative)]))\n",
            "<ipython-input-19-c3e53ee0a2ad>:66: RuntimeWarning: invalid value encountered in divide\n",
            "  specificity_gradient_boost = numpy.append(specificity_gradient_boost, numpy.array([true_negative / (true_negative + false_positive)]))\n"
          ]
        }
      ],
      "source": [
        "import numpy\n",
        "import pandas\n",
        "from sklearn.ensemble import GradientBoostingClassifier\n",
        "from sklearn.ensemble import RandomForestClassifier\n",
        "from sklearn.model_selection import train_test_split\n",
        "from sklearn.metrics import accuracy_score, confusion_matrix\n",
        "\n",
        "data = pandas.read_csv(\"data.csv\")\n",
        "#data.describe()\n",
        "labels = pandas.read_csv(\"labels.csv\")\n",
        "#labels.describe()\n",
        "data.drop_duplicates()\n",
        "labels.drop_duplicates()\n",
        "#data.columns.values[0] = 'Sample' I ALREADY DID THAT\n",
        "#1836 different microorganisms appear as features.\n",
        "input = data.drop('Sample', axis = 1)\n",
        "#input\n",
        "output = labels['disease_type']\n",
        "#output\n",
        "#train %75 test %25\n",
        "X_train, X_test, y_train, y_test = train_test_split(input, output, test_size = 0.25, random_state= 42)\n",
        "y_train = y_train.values.ravel()\n",
        "y_test = y_test.values.ravel()\n",
        "\n",
        "random_forest = RandomForestClassifier(n_estimators = 100, max_depth = 3)\n",
        "random_forest.fit(X_train ,y_train)\n",
        "accuracy_random_forest = round(random_forest.score(X_train, y_train) * 100, 2)\n",
        "accuracy_random_forest\n",
        "\n",
        "prediction_from_random_forest = random_forest.predict(X_test)\n",
        "accuracy_score_random_forest = accuracy_score(prediction_from_random_forest, y_test)\n",
        "\n",
        "#correct_first_class , total_first_class , correct_second_class , total_second_class\n",
        "true_positive , false_positive , false_negative , true_negative = confusion_matrix(y_test, prediction_from_random_forest)\n",
        "sensitivity_random_forest = numpy.empty(0)\n",
        "specificity_random_forest = numpy.empty(0)\n",
        "\n",
        "sensitivity_random_forest = numpy.append(sensitivity_random_forest, numpy.array([true_positive / (true_positive + false_negative)]))\n",
        "specificity_random_forest = numpy.append(specificity_random_forest, numpy.array([true_negative / (true_negative + false_positive)]))\n",
        "\n",
        "print('Training Features Shape:', X_train.shape)\n",
        "print('Training Labels Shape:', y_train.shape)\n",
        "print('Testing Features Shape:', X_test.shape)\n",
        "print('Testing Labels Shape:', y_test.shape)\n",
        "\n",
        "print(\"RANDOM FOREST ALGORITHM SENSITIVITY IS:\", sensitivity_random_forest)\n",
        "print(\"RANDOM FOREST ALGORITHM SPECIFICITY IS:\", specificity_random_forest)\n",
        "\n",
        "print(\"RANDOM FOREST ALGORITHM ACCURACY SCORE\")\n",
        "print(round(accuracy_random_forest,2,), \"%\")\n",
        "\n",
        "gradient_boosting = GradientBoostingClassifier(n_estimators = 100, max_depth = 3)\n",
        "\n",
        "gradient_boosting.fit(X_train, y_train)\n",
        "\n",
        "accuracy_gradient = round(gradient_boosting.score(X_train, y_train) * 100, 2)\n",
        "\n",
        "prediction_from_gradient_boost = gradient_boosting.predict(X_test)\n",
        "accuracy_score_gradient_boost = accuracy_score(prediction_from_gradient_boost, y_test)\n",
        "\n",
        "true_negative, false_positive, false_negative, true_positive = confusion_matrix(y_test, prediction_from_gradient_boost)\n",
        "sensitivity_gradient_boost = numpy.empty(0)\n",
        "specificity_gradient_boost = numpy.empty(0)\n",
        "\n",
        "sensitivity_gradient_boost = numpy.append(sensitivity_gradient_boost, numpy.array([true_positive / (true_positive + false_negative)]))\n",
        "specificity_gradient_boost = numpy.append(specificity_gradient_boost, numpy.array([true_negative / (true_negative + false_positive)]))\n",
        "\n",
        "print(\"GRADIENT BOOSTED TREE ALGORITHM SENSITIVITY IS:\", sensitivity_gradient_boost)\n",
        "print(\"GRADIENT BOOSTED TREE ALGORITHM SPECIFICITY IS:\", specificity_gradient_boost)\n",
        "\n",
        "print(\"GRADIENT BOOSTED TREES ALGORITHM ACCURACY SCORE\")\n",
        "print(round(accuracy_gradient,2,), \"%\")\n"
      ]
    }
  ]
}