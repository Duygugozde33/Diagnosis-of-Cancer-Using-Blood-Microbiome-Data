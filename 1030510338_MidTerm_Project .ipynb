{
  "nbformat": 4,
  "nbformat_minor": 0,
  "metadata": {
    "colab": {
      "provenance": []
    },
    "kernelspec": {
      "name": "python3",
      "display_name": "Python 3"
    },
    "language_info": {
      "name": "python"
    }
  },
  "cells": [
    {
      "cell_type": "code",
      "source": [
        "import numpy\n",
        "import pandas\n",
        "from sklearn.ensemble import GradientBoostingClassifier\n",
        "from sklearn.ensemble import RandomForestClassifier\n",
        "from sklearn.model_selection import train_test_split\n",
        "from sklearn.metrics import accuracy_score, confusion_matrix\n",
        "\n",
        "numpy.seterr(divide='ignore', invalid='ignore')\n",
        "data = pandas.read_csv(\"data.csv\")\n",
        "#data.describe()\n",
        "labels = pandas.read_csv(\"labels.csv\")\n",
        "#labels.describe()\n",
        "data.drop_duplicates()\n",
        "labels.drop_duplicates()\n",
        "#data.columns.values[0] = 'Sample' I ALREADY DID THAT\n",
        "#1836 different microorganisms appear as features.\n",
        "input = data.drop('Sample', axis = 1)\n",
        "#input\n",
        "output = labels['disease_type']\n",
        "#output\n",
        "#train %75 test %25\n",
        "X_train, X_test, y_train, y_test = train_test_split(input, output, test_size = 0.25, random_state= 42)\n",
        "y_train = y_train.values.ravel()\n",
        "y_test = y_test.values.ravel()\n",
        "\n",
        "\n",
        "random_forest = RandomForestClassifier(n_estimators = 100, max_depth = 3)\n",
        "random_forest.fit(X_train ,y_train)\n",
        "accuracy_random_forest = round(random_forest.score(X_train, y_train) * 100, 2)\n",
        "accuracy_random_forest\n",
        "\n",
        "\n",
        "prediction_from_random_forest = random_forest.predict(X_test)\n",
        "accuracy_score_random_forest = accuracy_score(prediction_from_random_forest, y_test)\n",
        "\n",
        "\n",
        "#correct_first_class , total_first_class , correct_second_class , total_second_class\n",
        "true_positive , false_positive , false_negative , true_negative = confusion_matrix(y_test, prediction_from_random_forest)\n",
        "sensitivity_random_forest = numpy.empty(0)\n",
        "specificity_random_forest = numpy.empty(0)\n",
        "\n",
        "\n",
        "sensitivity_random_forest = numpy.append(sensitivity_random_forest, numpy.array([true_positive / (true_positive + false_negative)]))\n",
        "specificity_random_forest = numpy.append(specificity_random_forest, numpy.array([true_negative / (true_negative + false_positive)]))\n",
        "\n",
        "\n",
        "print('Training Features Shape:', X_train.shape)\n",
        "print('Training Labels Shape:', y_train.shape)\n",
        "print('Testing Features Shape:', X_test.shape)\n",
        "print('Testing Labels Shape:', y_test.shape)\n",
        "\n",
        "\n",
        "print(\"The Sensitivity of Random Forest Algorithm is :\", sensitivity_random_forest)\n",
        "print(\"The Specificity for Random Forest Algorithm is :\", specificity_random_forest)\n",
        "\n",
        "\n",
        "print(\"The Accuracy Score of Random Forest Algorithm is :\")\n",
        "print(round(accuracy_random_forest,2,), \"%\")\n",
        "\n",
        "\n",
        "gradient_boosting = GradientBoostingClassifier(n_estimators = 100, max_depth = 3)\n",
        "\n",
        "\n",
        "gradient_boosting.fit(X_train, y_train)\n",
        "\n",
        "\n",
        "accuracy_gradient = round(gradient_boosting.score(X_train, y_train) * 100, 2)\n",
        "\n",
        "\n",
        "prediction_from_gradient_boost = gradient_boosting.predict(X_test)\n",
        "accuracy_score_gradient_boost = accuracy_score(prediction_from_gradient_boost, y_test)\n",
        "\n",
        "\n",
        "true_negative, false_positive, false_negative, true_positive = confusion_matrix(y_test, prediction_from_gradient_boost)\n",
        "sensitivity_gradient_boost = numpy.empty(0)\n",
        "specificity_gradient_boost = numpy.empty(0)\n",
        "\n",
        "\n",
        "sensitivity_gradient_boost = numpy.append(sensitivity_gradient_boost, numpy.array([true_positive / (true_positive + false_negative)]))\n",
        "specificity_gradient_boost = numpy.append(specificity_gradient_boost, numpy.array([true_negative / (true_negative + false_positive)]))\n",
        "\n",
        "\n",
        "print(\"The Sensitivity of Gradient Boosted Tree Algorithm is :\", sensitivity_gradient_boost)\n",
        "print(\"The Specificity of Gradient Boosted Tree Algorithm is :\", specificity_gradient_boost)\n",
        "\n",
        "\n",
        "print(\"The Accuracy Score of Gradient Boosted Tree Algorithm is :\")\n",
        "print(round(accuracy_gradient,2,), \"%\")\n"
      ],
      "metadata": {
        "colab": {
          "base_uri": "https://localhost:8080/"
        },
        "id": "komKmLU5IzLy",
        "outputId": "4b328d8d-1bd2-40cc-986f-d274e007ce22"
      },
      "execution_count": 11,
      "outputs": [
        {
          "output_type": "stream",
          "name": "stdout",
          "text": [
            "Training Features Shape: (266, 1836)\n",
            "Training Labels Shape: (266,)\n",
            "Testing Features Shape: (89, 1836)\n",
            "Testing Labels Shape: (89,)\n",
            "The Sensitivity of Random Forest Algorithm is : [1. 1. 0. 1.]\n",
            "The Specificity for Random Forest Algorithm is : [       nan 0.         1.         0.93548387]\n",
            "The Accuracy Score of Random Forest Algorithm is :\n",
            "94.74 %\n",
            "The Sensitivity of Gradient Boosted Tree Algorithm is : [nan nan  0.  1.]\n",
            "The Specificity of Gradient Boosted Tree Algorithm is : [ 1.  0. nan nan]\n",
            "The Accuracy Score of Gradient Boosted Tree Algorithm is :\n",
            "100.0 %\n"
          ]
        }
      ]
    }
  ]
}